{
  "nbformat": 4,
  "nbformat_minor": 0,
  "metadata": {
    "colab": {
      "name": "Exercise1.01_Creating a Dictionary That Will Contain Machine Learning Algorithms.ipynb",
      "provenance": [],
      "authorship_tag": "ABX9TyM2AlddHcBVGmDT/vfgo1Pi",
      "include_colab_link": true
    },
    "kernelspec": {
      "name": "python3",
      "display_name": "Python 3"
    }
  },
  "cells": [
    {
      "cell_type": "markdown",
      "metadata": {
        "id": "view-in-github",
        "colab_type": "text"
      },
      "source": [
        "<a href=\"https://colab.research.google.com/github/Aninhacgs/Aninhacgs/blob/main/Exercise1_01_Creating_a_Dictionary_That_Will_Contain_Machine_Learning_Algorithms.ipynb\" target=\"_parent\"><img src=\"https://colab.research.google.com/assets/colab-badge.svg\" alt=\"Open In Colab\"/></a>"
      ]
    },
    {
      "cell_type": "code",
      "metadata": {
        "id": "PAR7yWIruA1w"
      },
      "source": [
        "algorithm = ['Linear Regression', 'Logistic Regression', 'RadomForest', 'a3c']"
      ],
      "execution_count": 2,
      "outputs": []
    },
    {
      "cell_type": "code",
      "metadata": {
        "id": "6lMOsXErxul9"
      },
      "source": [
        "learning = ['Supervised', 'Supervised', 'Supervised', 'Reiforcement']"
      ],
      "execution_count": 3,
      "outputs": []
    },
    {
      "cell_type": "code",
      "metadata": {
        "id": "Sa_WsKa-x-e0"
      },
      "source": [
        "algorithm_type = ['Regression','Classification','Regression or Classification','Game AI']"
      ],
      "execution_count": 5,
      "outputs": []
    },
    {
      "cell_type": "code",
      "metadata": {
        "id": "F9lB3BuNyhXL"
      },
      "source": [
        "algorithm.append('k-means')"
      ],
      "execution_count": 6,
      "outputs": []
    },
    {
      "cell_type": "code",
      "metadata": {
        "colab": {
          "base_uri": "https://localhost:8080/"
        },
        "id": "HOCuZ3Zyynw0",
        "outputId": "18067ddc-0e3f-4c07-dda4-c7c047373fa1"
      },
      "source": [
        "print(algorithm)"
      ],
      "execution_count": 7,
      "outputs": [
        {
          "output_type": "stream",
          "text": [
            "['Linear Regression', 'Logistic Regression', 'RadomForest', 'a3c', 'k-means']\n"
          ],
          "name": "stdout"
        }
      ]
    },
    {
      "cell_type": "code",
      "metadata": {
        "id": "YHQRdTQ9y9-z"
      },
      "source": [
        "learning.append('Unsupervide')"
      ],
      "execution_count": 8,
      "outputs": []
    },
    {
      "cell_type": "code",
      "metadata": {
        "colab": {
          "base_uri": "https://localhost:8080/"
        },
        "id": "C_lufmrNzEau",
        "outputId": "e8459a36-c34a-4615-f8ee-3075ff937f7c"
      },
      "source": [
        "print(learning)"
      ],
      "execution_count": 9,
      "outputs": [
        {
          "output_type": "stream",
          "text": [
            "['Supervised', 'Supervised', 'Supervised', 'Reiforcement', 'Unsupervide']\n"
          ],
          "name": "stdout"
        }
      ]
    },
    {
      "cell_type": "code",
      "metadata": {
        "id": "NqukewpszHtB"
      },
      "source": [
        "algorithm_type.append('Clustering')"
      ],
      "execution_count": 10,
      "outputs": []
    },
    {
      "cell_type": "code",
      "metadata": {
        "colab": {
          "base_uri": "https://localhost:8080/"
        },
        "id": "zuteUL_XzUVk",
        "outputId": "3f99cd27-8a4d-4c09-bd50-0c9139146909"
      },
      "source": [
        "print(algorithm_type)"
      ],
      "execution_count": 11,
      "outputs": [
        {
          "output_type": "stream",
          "text": [
            "['Regression', 'Classification', 'Regression or Classification', 'Game AI', 'Clustering']\n"
          ],
          "name": "stdout"
        }
      ]
    },
    {
      "cell_type": "code",
      "metadata": {
        "id": "rbYWDO9pzaXM"
      },
      "source": [
        "machine_learning = {}"
      ],
      "execution_count": 12,
      "outputs": []
    },
    {
      "cell_type": "code",
      "metadata": {
        "id": "ja7dtpGNzq0S"
      },
      "source": [
        "machine_learning['algorithm'] = algorithm"
      ],
      "execution_count": 13,
      "outputs": []
    },
    {
      "cell_type": "code",
      "metadata": {
        "id": "kkJBv0QFz_6V"
      },
      "source": [
        "machine_learning['learning'] = learning"
      ],
      "execution_count": 14,
      "outputs": []
    },
    {
      "cell_type": "code",
      "metadata": {
        "id": "CobT6wrbz1-M"
      },
      "source": [
        "machine_learning['algorithm_type'] = algorithm_type"
      ],
      "execution_count": 15,
      "outputs": []
    },
    {
      "cell_type": "code",
      "metadata": {
        "colab": {
          "base_uri": "https://localhost:8080/"
        },
        "id": "Lb06y7t40FWN",
        "outputId": "0b08b3f5-fb60-49dc-ecb3-b0d46a5f85d2"
      },
      "source": [
        "print(machine_learning)"
      ],
      "execution_count": 16,
      "outputs": [
        {
          "output_type": "stream",
          "text": [
            "{'algorithm': ['Linear Regression', 'Logistic Regression', 'RadomForest', 'a3c', 'k-means'], 'learning': ['Supervised', 'Supervised', 'Supervised', 'Reiforcement', 'Unsupervide'], 'algorithm_type': ['Regression', 'Classification', 'Regression or Classification', 'Game AI', 'Clustering']}\n"
          ],
          "name": "stdout"
        }
      ]
    }
  ]
}